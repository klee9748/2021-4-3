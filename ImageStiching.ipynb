{
  "nbformat": 4,
  "nbformat_minor": 0,
  "metadata": {
    "colab": {
      "name": "ImageStiching.ipynb",
      "provenance": [],
      "authorship_tag": "ABX9TyNTMSLLznR9EaJnVwckzBYf",
      "include_colab_link": true
    },
    "kernelspec": {
      "name": "python3",
      "display_name": "Python 3"
    },
    "language_info": {
      "name": "python"
    }
  },
  "cells": [
    {
      "cell_type": "markdown",
      "metadata": {
        "id": "view-in-github",
        "colab_type": "text"
      },
      "source": [
        "<a href=\"https://colab.research.google.com/github/klee9748/2021-4-3/blob/main/ImageStiching.ipynb\" target=\"_parent\"><img src=\"https://colab.research.google.com/assets/colab-badge.svg\" alt=\"Open In Colab\"/></a>"
      ]
    },
    {
      "cell_type": "markdown",
      "metadata": {
        "id": "aWGqd_PDsllB"
      },
      "source": [
        "https://github.com/ElsevierSoftwareX/SOFTX-D-17-00073/find/dev\n",
        "\n",
        "https://www.sciencedirect.com/science/article/pii/S235271101830013X\n",
        "\n",
        "https://www.pyimagesearch.com/2016/01/11/opencv-panorama-stitching/"
      ]
    },
    {
      "cell_type": "code",
      "metadata": {
        "colab": {
          "base_uri": "https://localhost:8080/"
        },
        "id": "WWJ8qrxGqI7q",
        "outputId": "439fe326-99b4-4e0b-ce70-a00fe0523364"
      },
      "source": [
        "!pip uninstall opencv-python -y\n",
        "!pip uninstall opencv-contrib-python -y\n",
        "!pip install opencv-contrib-python==4.4.0.44\n",
        "#!apt-get -qq install - y libsm6 libxext6 && pip install -q -U opencv-python\n",
        "print(\"good\")\n",
        "\n",
        "import sys\n",
        "if 'google.colab' in sys.modules:\n",
        "  from google.colab import drive\n",
        "  drive.mount('/content/drive/',force_remount=True)\n",
        "  path= '/content/drive/My Drive/Research/Photo/Test3/'\n",
        "  path1= '/content/drive/My Drive/Research/Photo/Test3/Comparison'\n",
        "  ! ls '/content/drive/My Drive/Research/Photo/Test3/'\n",
        "  ! ls '/content/drive/My Drive/Research/Photo/Test3/Comparison'\n",
        "  image1 = path + 'original_golden_bridge.jpg'\n",
        "  folder = path1\n",
        "\n",
        "  print (\"all good\")"
      ],
      "execution_count": 1,
      "outputs": [
        {
          "output_type": "stream",
          "name": "stdout",
          "text": [
            "Found existing installation: opencv-python 4.1.2.30\n",
            "Uninstalling opencv-python-4.1.2.30:\n",
            "  Successfully uninstalled opencv-python-4.1.2.30\n",
            "Found existing installation: opencv-contrib-python 4.1.2.30\n",
            "Uninstalling opencv-contrib-python-4.1.2.30:\n",
            "  Successfully uninstalled opencv-contrib-python-4.1.2.30\n",
            "Collecting opencv-contrib-python==4.4.0.44\n",
            "  Downloading opencv_contrib_python-4.4.0.44-cp37-cp37m-manylinux2014_x86_64.whl (55.7 MB)\n",
            "\u001b[K     |████████████████████████████████| 55.7 MB 1.2 MB/s \n",
            "\u001b[?25hRequirement already satisfied: numpy>=1.14.5 in /usr/local/lib/python3.7/dist-packages (from opencv-contrib-python==4.4.0.44) (1.21.6)\n",
            "Installing collected packages: opencv-contrib-python\n",
            "Successfully installed opencv-contrib-python-4.4.0.44\n",
            "good\n",
            "Mounted at /content/drive/\n",
            "ls: cannot access '/content/drive/My Drive/Research/Photo/Test3/': No such file or directory\n",
            "ls: cannot access '/content/drive/My Drive/Research/Photo/Test3/Comparison': No such file or directory\n",
            "all good\n"
          ]
        }
      ]
    },
    {
      "cell_type": "code",
      "metadata": {
        "id": "Goru__NL_-kW"
      },
      "source": [
        "# USAGE\n",
        "# python image_stitching.py --images images/scottsdale --output output.png --crop 1\n",
        "\n",
        "# import the necessary packages\n",
        "from imutils import paths\n",
        "import numpy as np\n",
        "import argparse\n",
        "import imutils\n",
        "import cv2"
      ],
      "execution_count": 2,
      "outputs": []
    },
    {
      "cell_type": "code",
      "metadata": {
        "colab": {
          "base_uri": "https://localhost:8080/",
          "height": 183
        },
        "id": "L_zrApwxqF8o",
        "outputId": "ef7deca7-b576-455b-a61e-80cc037d12c3"
      },
      "source": [
        "# construct the argument parser and parse the arguments\n",
        "ap = argparse.ArgumentParser()\n",
        "ap.add_argument(\"-i\", \"--images\", type=str, required=True, #change path of file\n",
        "\thelp=\"path to input directory of images to stitch\")\n",
        "ap.add_argument(\"-o\", \"--output\", type=str, required=True,\n",
        "\thelp=\"path to the output image\")\n",
        "ap.add_argument(\"-c\", \"--crop\", type=int, default=0,\n",
        "\thelp=\"whether to crop out largest rectangular region\")\n",
        "args = vars(ap.parse_args())\n",
        "\n",
        "# grab the paths to the input images and initialize our images list\n",
        "print(\"[INFO] loading images...\")\n",
        "imagePaths = sorted(list(paths.list_images(args[\"images\"]))) #change image\n",
        "images = []\n",
        "\n",
        "# loop over the image paths, load each one, and add them to our\n",
        "# images to stich list\n",
        "for imagePath in imagePaths:\n",
        "\timage = cv2.imread(imagePath)\n",
        "\timages.append(image)\n",
        "\n",
        "# initialize OpenCV's image sticher object and then perform the image\n",
        "# stitching\n",
        "print(\"[INFO] stitching images...\")\n",
        "stitcher = cv2.createStitcher() if imutils.is_cv3() else cv2.Stitcher_create()\n",
        "(status, stitched) = stitcher.stitch(images)\n",
        "\n",
        "# if the status is '0', then OpenCV successfully performed image\n",
        "# stitching\n",
        "if status == 0:\n",
        "\t# check to see if we supposed to crop out the largest rectangular\n",
        "\t# region from the stitched image\n",
        "\tif args[\"crop\"] > 0:\n",
        "\t\t# create a 10 pixel border surrounding the stitched image\n",
        "\t\tprint(\"[INFO] cropping...\")\n",
        "\t\tstitched = cv2.copyMakeBorder(stitched, 10, 10, 10, 10,\n",
        "\t\t\tcv2.BORDER_CONSTANT, (0, 0, 0))\n",
        "\n",
        "\t\t# convert the stitched image to grayscale and threshold it\n",
        "\t\t# such that all pixels greater than zero are set to 255\n",
        "\t\t# (foreground) while all others remain 0 (background)\n",
        "\t\tgray = cv2.cvtColor(stitched, cv2.COLOR_BGR2GRAY)\n",
        "\t\tthresh = cv2.threshold(gray, 0, 255, cv2.THRESH_BINARY)[1]\n",
        "\n",
        "\t\t# find all external contours in the threshold image then find\n",
        "\t\t# the *largest* contour which will be the contour/outline of\n",
        "\t\t# the stitched image\n",
        "\t\tcnts = cv2.findContours(thresh.copy(), cv2.RETR_EXTERNAL,\n",
        "\t\t\tcv2.CHAIN_APPROX_SIMPLE)\n",
        "\t\tcnts = imutils.grab_contours(cnts)\n",
        "\t\tc = max(cnts, key=cv2.contourArea)\n",
        "\n",
        "\t\t# allocate memory for the mask which will contain the\n",
        "\t\t# rectangular bounding box of the stitched image region\n",
        "\t\tmask = np.zeros(thresh.shape, dtype=\"uint8\")\n",
        "\t\t(x, y, w, h) = cv2.boundingRect(c)\n",
        "\t\tcv2.rectangle(mask, (x, y), (x + w, y + h), 255, -1)\n",
        "\n",
        "\t\t# create two copies of the mask: one to serve as our actual\n",
        "\t\t# minimum rectangular region and another to serve as a counter\n",
        "\t\t# for how many pixels need to be removed to form the minimum\n",
        "\t\t# rectangular region\n",
        "\t\tminRect = mask.copy()\n",
        "\t\tsub = mask.copy()\n",
        "\n",
        "\t\t# keep looping until there are no non-zero pixels left in the\n",
        "\t\t# subtracted image\n",
        "\t\twhile cv2.countNonZero(sub) > 0:\n",
        "\t\t\t# erode the minimum rectangular mask and then subtract\n",
        "\t\t\t# the thresholded image from the minimum rectangular mask\n",
        "\t\t\t# so we can count if there are any non-zero pixels left\n",
        "\t\t\tminRect = cv2.erode(minRect, None)\n",
        "\t\t\tsub = cv2.subtract(minRect, thresh)\n",
        "\n",
        "\t\t# find contours in the minimum rectangular mask and then\n",
        "\t\t# extract the bounding box (x, y)-coordinates\n",
        "\t\tcnts = cv2.findContours(minRect.copy(), cv2.RETR_EXTERNAL,\n",
        "\t\t\tcv2.CHAIN_APPROX_SIMPLE)\n",
        "\t\tcnts = imutils.grab_contours(cnts)\n",
        "\t\tc = max(cnts, key=cv2.contourArea)\n",
        "\t\t(x, y, w, h) = cv2.boundingRect(c)\n",
        "\n",
        "\t\t# use the bounding box coordinates to extract the our final\n",
        "\t\t# stitched image\n",
        "\t\tstitched = stitched[y:y + h, x:x + w]\n",
        "\n",
        "\t# write the output stitched image to disk\n",
        "\tcv2.imwrite(args[\"output\"], stitched)\n",
        "\n",
        "\t# display the output stitched image to our screen\n",
        "\tcv2.imshow(\"Stitched\", stitched)\n",
        "\tcv2.waitKey(0)\n",
        "\n",
        "# otherwise the stitching failed, likely due to not enough keypoints)\n",
        "# being detected\n",
        "else:\n",
        "\tprint(\"[INFO] image stitching failed ({})\".format(status))\n"
      ],
      "execution_count": 3,
      "outputs": [
        {
          "output_type": "stream",
          "name": "stderr",
          "text": [
            "usage: ipykernel_launcher.py [-h] -i IMAGES -o OUTPUT [-c CROP]\n",
            "ipykernel_launcher.py: error: the following arguments are required: -i/--images, -o/--output\n"
          ]
        },
        {
          "output_type": "error",
          "ename": "SystemExit",
          "evalue": "ignored",
          "traceback": [
            "An exception has occurred, use %tb to see the full traceback.\n",
            "\u001b[0;31mSystemExit\u001b[0m\u001b[0;31m:\u001b[0m 2\n"
          ]
        },
        {
          "output_type": "stream",
          "name": "stderr",
          "text": [
            "/usr/local/lib/python3.7/dist-packages/IPython/core/interactiveshell.py:2890: UserWarning: To exit: use 'exit', 'quit', or Ctrl-D.\n",
            "  warn(\"To exit: use 'exit', 'quit', or Ctrl-D.\", stacklevel=1)\n"
          ]
        }
      ]
    },
    {
      "cell_type": "markdown",
      "metadata": {
        "id": "9dJUtwvXtx6o"
      },
      "source": [
        "https://www.researchgate.net/publication/330425660_Automatic_multi-image_stitching_for_concrete_bridge_inspection_by_combining_point_and_line_features\n",
        "\n",
        "\n",
        "Links\n",
        "*   [Proof of Concept](https://openaccess.thecvf.com/content_ECCV_2018/papers/Charles_Herrmann_Robust_image_stitching_ECCV_2018_paper.pdf\n",
        ")\n",
        "*   [Photoshop Idea](https://www.lonelyspeck.com/how-to-shoot-large-format-astrophotography-panoramas/)\n",
        "\n",
        "*   List item\n",
        "*   How does [image stiching](https://courses.cs.washington.edu/courses/cse576/05sp/papers/MSR-TR-2004-92.pdf) work?\n",
        "\n"
      ]
    }
  ]
}