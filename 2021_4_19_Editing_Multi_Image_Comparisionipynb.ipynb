{
  "nbformat": 4,
  "nbformat_minor": 0,
  "metadata": {
    "colab": {
      "name": "2021-4-19: Editing:  Multi-Image-Comparisionipynb",
      "provenance": [],
      "mount_file_id": "15s1TWNx-CMvCT_A5Qb10L-UaR9qixntV",
      "authorship_tag": "ABX9TyNC24P2zgAih/v7CMYZAqHu",
      "include_colab_link": true
    },
    "kernelspec": {
      "name": "python3",
      "display_name": "Python 3"
    },
    "language_info": {
      "name": "python"
    }
  },
  "cells": [
    {
      "cell_type": "markdown",
      "metadata": {
        "id": "view-in-github",
        "colab_type": "text"
      },
      "source": [
        "<a href=\"https://colab.research.google.com/github/klee9748/2021-4-3/blob/main/2021_4_19_Editing_Multi_Image_Comparisionipynb.ipynb\" target=\"_parent\"><img src=\"https://colab.research.google.com/assets/colab-badge.svg\" alt=\"Open In Colab\"/></a>"
      ]
    },
    {
      "cell_type": "markdown",
      "metadata": {
        "id": "skUHVezjIHS0"
      },
      "source": [
        "Jigsaw Puzzle finding Keypoints\n",
        "\n",
        "Image Stiching (labeling which ones match with which)\n",
        "\n",
        "Image Comparision\n",
        "- through orb, sift, surf\n",
        "\n",
        "[Link](https://pysource.com/2018/07/27/check-if-a-set-of-images-match-the-original-one-with-opencv-and-python/): Multi-Image-Comparision; pysource\n"
      ]
    },
    {
      "cell_type": "markdown",
      "metadata": {
        "id": "9D_vAHSpoaYP"
      },
      "source": [
        "# Setup"
      ]
    },
    {
      "cell_type": "code",
      "metadata": {
        "colab": {
          "base_uri": "https://localhost:8080/"
        },
        "id": "8HUyzxmLT9e4",
        "outputId": "89f80207-acaa-4408-fe40-b6817eb7e0ac"
      },
      "source": [
        "!pip uninstall opencv-python -y\n",
        "!pip uninstall opencv-contrib-python -y\n",
        "!pip install opencv-contrib-python==4.4.0.44\n",
        "#!apt-get -qq install - y libsm6 libxext6 && pip install -q -U opencv-python\n",
        "print(\"good\")"
      ],
      "execution_count": null,
      "outputs": [
        {
          "output_type": "stream",
          "text": [
            "Uninstalling opencv-python-4.1.2.30:\n",
            "  Successfully uninstalled opencv-python-4.1.2.30\n",
            "Uninstalling opencv-contrib-python-4.1.2.30:\n",
            "  Successfully uninstalled opencv-contrib-python-4.1.2.30\n",
            "Collecting opencv-contrib-python==4.4.0.44\n",
            "\u001b[?25l  Downloading https://files.pythonhosted.org/packages/20/d9/69a0c855c6e11037574e303bd158abf63c1e328ff16dfb175ca5599cc77d/opencv_contrib_python-4.4.0.44-cp37-cp37m-manylinux2014_x86_64.whl (55.7MB)\n",
            "\u001b[K     |████████████████████████████████| 55.7MB 75kB/s \n",
            "\u001b[?25hRequirement already satisfied: numpy>=1.14.5 in /usr/local/lib/python3.7/dist-packages (from opencv-contrib-python==4.4.0.44) (1.19.5)\n",
            "Installing collected packages: opencv-contrib-python\n",
            "Successfully installed opencv-contrib-python-4.4.0.44\n",
            "good\n"
          ],
          "name": "stdout"
        }
      ]
    },
    {
      "cell_type": "code",
      "metadata": {
        "colab": {
          "base_uri": "https://localhost:8080/"
        },
        "id": "bWs5OEvIUQpB",
        "outputId": "19874aab-9f5d-4935-f3ad-6509c17202fd"
      },
      "source": [
        "import sys\n",
        "if 'google.colab' in sys.modules:\n",
        "  from google.colab import drive\n",
        "  drive.mount('/content/drive/',force_remount=True)\n",
        "  path= '/content/drive/My Drive/Research/Photo/Test3/'\n",
        "  path1= '/content/drive/My Drive/Research/Photo/Test3/old_folder'\n",
        "  ! ls '/content/drive/My Drive/Research/Photo/Test3/'\n",
        "  #! ls '/content/drive/My Drive/Research/Photo/Test3/new_folder'\n",
        "  old_folder = path\n",
        "  new_folder = path1\n",
        "  \n",
        "  path3= '/content/drive/My Drive/Research/Photo/Test4'\n",
        "  ! ls \"$path3\"\n",
        "  \n",
        " # ! ls \"$image1\"\n",
        "\n",
        "  print (\"all good\")"
      ],
      "execution_count": null,
      "outputs": [
        {
          "output_type": "stream",
          "text": [
            "Mounted at /content/drive/\n",
            "New_Folder  Old_Folder\n",
            "Old_Vid.MOV\n",
            "all good\n"
          ],
          "name": "stdout"
        }
      ]
    },
    {
      "cell_type": "code",
      "metadata": {
        "id": "FBuexCHn76RG"
      },
      "source": [
        "cv2.imread()"
      ],
      "execution_count": null,
      "outputs": []
    },
    {
      "cell_type": "code",
      "metadata": {
        "id": "LU57pHZw3WCb"
      },
      "source": [
        "fps = 0.5\n",
        "frame_array = []\n",
        "files = [f for f in os.listdir(path3) if isfile(join(path3, f))]\n",
        "#for sorting the file names properly\n",
        "files.sort(key = lambda x: x[5:-4])\n",
        "files.sort()\n",
        "frame_array = []\n",
        "files = [f for f in os.listdir(path3) if isfile(join(path3, f))]\n",
        "#for sorting the file names properly\n",
        "files.sort(key = lambda x: x[5:-4])\n",
        "for i in range(len(files)):\n",
        "    filename=pathIn + files[i]\n",
        "    #reading each files\n",
        "    img = cv2.imread(filename)\n",
        "    height, width, layers = img.shape\n",
        "    size = (width,height)\n",
        "    \n",
        "    #inserting the frames into an image array\n",
        "    frame_array.append(img)\n",
        "out = cv2.VideoWriter(pathOut,cv2.VideoWriter_fourcc(*'DIVX'), fps, size)\n",
        "for i in range(len(frame_array)):\n",
        "    # writing to a image array\n",
        "    out.write(frame_array[i])\n",
        "out.release()"
      ],
      "execution_count": null,
      "outputs": []
    },
    {
      "cell_type": "markdown",
      "metadata": {
        "id": "-s6rPA2JBgiy"
      },
      "source": [
        "# Upload Batch Images\n"
      ]
    },
    {
      "cell_type": "code",
      "metadata": {
        "colab": {
          "base_uri": "https://localhost:8080/",
          "height": 377
        },
        "id": "txZMr8zeBACq",
        "outputId": "ade463a8-131e-4504-e020-18759611203c"
      },
      "source": [
        "# https://youtu.be/QxzxLVzNfbI\n",
        "\n",
        "\"\"\"\n",
        "How to apply image processing operations to multiple images\n",
        "\"\"\"\n",
        "\n",
        "## Using GLOB\n",
        "#Now, let us load images and perform some action.\n",
        "#import the opencv library so we can use it to read and process images\n",
        "import cv2\n",
        "import glob\n",
        "import os\n",
        "from skimage.filters import gaussian\n",
        "from skimage import img_as_ubyte\n",
        "\n",
        "#select the path\n",
        "#path = \"test_images/imgs/*.*\"\n",
        "img_number = 1  #Start an iterator for image number.\n",
        "#This number can be later added to output image file names.\n",
        "\n",
        "#for file in glob.glob(path):\n",
        "for file in os.listdir\n",
        "    print(file)     #just stop here to see all file names printed\n",
        "    img= cv2.imread(file, 0)  #now, we can read each file since we have the full path\n",
        "    \n",
        "#process each image - change color from BGR to RGB.\n",
        "    smoothed_image = img_as_ubyte(gaussian(img, sigma=5, mode='constant', cval=0.0))\n",
        "    \n",
        "    cv2.imwrite(\"test_images/smoothed/smoothed_image\"+str(img_number)+\".jpg\", smoothed_image)\n",
        "    img_number +=1     \n",
        "\n"
      ],
      "execution_count": null,
      "outputs": [
        {
          "output_type": "stream",
          "text": [
            "/content/drive/My Drive/Research/Photo/Test3/\n"
          ],
          "name": "stdout"
        },
        {
          "output_type": "error",
          "ename": "AttributeError",
          "evalue": "ignored",
          "traceback": [
            "\u001b[0;31m---------------------------------------------------------------------------\u001b[0m",
            "\u001b[0;31mAttributeError\u001b[0m                            Traceback (most recent call last)",
            "\u001b[0;32m<ipython-input-4-0892051878ee>\u001b[0m in \u001b[0;36m<module>\u001b[0;34m()\u001b[0m\n\u001b[1;32m     23\u001b[0m \u001b[0;34m\u001b[0m\u001b[0m\n\u001b[1;32m     24\u001b[0m \u001b[0;31m#process each image - change color from BGR to RGB.\u001b[0m\u001b[0;34m\u001b[0m\u001b[0;34m\u001b[0m\u001b[0;34m\u001b[0m\u001b[0m\n\u001b[0;32m---> 25\u001b[0;31m     \u001b[0msmoothed_image\u001b[0m \u001b[0;34m=\u001b[0m \u001b[0mimg_as_ubyte\u001b[0m\u001b[0;34m(\u001b[0m\u001b[0mgaussian\u001b[0m\u001b[0;34m(\u001b[0m\u001b[0mimg\u001b[0m\u001b[0;34m,\u001b[0m \u001b[0msigma\u001b[0m\u001b[0;34m=\u001b[0m\u001b[0;36m5\u001b[0m\u001b[0;34m,\u001b[0m \u001b[0mmode\u001b[0m\u001b[0;34m=\u001b[0m\u001b[0;34m'constant'\u001b[0m\u001b[0;34m,\u001b[0m \u001b[0mcval\u001b[0m\u001b[0;34m=\u001b[0m\u001b[0;36m0.0\u001b[0m\u001b[0;34m)\u001b[0m\u001b[0;34m)\u001b[0m\u001b[0;34m\u001b[0m\u001b[0;34m\u001b[0m\u001b[0m\n\u001b[0m\u001b[1;32m     26\u001b[0m \u001b[0;34m\u001b[0m\u001b[0m\n\u001b[1;32m     27\u001b[0m     \u001b[0mcv2\u001b[0m\u001b[0;34m.\u001b[0m\u001b[0mimwrite\u001b[0m\u001b[0;34m(\u001b[0m\u001b[0;34m\"test_images/smoothed/smoothed_image\"\u001b[0m\u001b[0;34m+\u001b[0m\u001b[0mstr\u001b[0m\u001b[0;34m(\u001b[0m\u001b[0mimg_number\u001b[0m\u001b[0;34m)\u001b[0m\u001b[0;34m+\u001b[0m\u001b[0;34m\".jpg\"\u001b[0m\u001b[0;34m,\u001b[0m \u001b[0msmoothed_image\u001b[0m\u001b[0;34m)\u001b[0m\u001b[0;34m\u001b[0m\u001b[0;34m\u001b[0m\u001b[0m\n",
            "\u001b[0;32m/usr/local/lib/python3.7/dist-packages/skimage/filters/_gaussian.py\u001b[0m in \u001b[0;36mgaussian\u001b[0;34m(image, sigma, output, mode, cval, multichannel, preserve_range, truncate)\u001b[0m\n\u001b[1;32m     96\u001b[0m     \u001b[0mspatial_dims\u001b[0m \u001b[0;34m=\u001b[0m \u001b[0;32mNone\u001b[0m\u001b[0;34m\u001b[0m\u001b[0;34m\u001b[0m\u001b[0m\n\u001b[1;32m     97\u001b[0m     \u001b[0;32mtry\u001b[0m\u001b[0;34m:\u001b[0m\u001b[0;34m\u001b[0m\u001b[0;34m\u001b[0m\u001b[0m\n\u001b[0;32m---> 98\u001b[0;31m         \u001b[0mspatial_dims\u001b[0m \u001b[0;34m=\u001b[0m \u001b[0m_guess_spatial_dimensions\u001b[0m\u001b[0;34m(\u001b[0m\u001b[0mimage\u001b[0m\u001b[0;34m)\u001b[0m\u001b[0;34m\u001b[0m\u001b[0;34m\u001b[0m\u001b[0m\n\u001b[0m\u001b[1;32m     99\u001b[0m     \u001b[0;32mexcept\u001b[0m \u001b[0mValueError\u001b[0m\u001b[0;34m:\u001b[0m\u001b[0;34m\u001b[0m\u001b[0;34m\u001b[0m\u001b[0m\n\u001b[1;32m    100\u001b[0m         \u001b[0mspatial_dims\u001b[0m \u001b[0;34m=\u001b[0m \u001b[0mimage\u001b[0m\u001b[0;34m.\u001b[0m\u001b[0mndim\u001b[0m\u001b[0;34m\u001b[0m\u001b[0;34m\u001b[0m\u001b[0m\n",
            "\u001b[0;32m/usr/local/lib/python3.7/dist-packages/skimage/filters/_gaussian.py\u001b[0m in \u001b[0;36m_guess_spatial_dimensions\u001b[0;34m(image)\u001b[0m\n\u001b[1;32m    137\u001b[0m         \u001b[0mIf\u001b[0m \u001b[0mthe\u001b[0m \u001b[0mimage\u001b[0m \u001b[0marray\u001b[0m \u001b[0mhas\u001b[0m \u001b[0mless\u001b[0m \u001b[0mthan\u001b[0m \u001b[0mtwo\u001b[0m \u001b[0;32mor\u001b[0m \u001b[0mmore\u001b[0m \u001b[0mthan\u001b[0m \u001b[0mfour\u001b[0m \u001b[0mdimensions\u001b[0m\u001b[0;34m.\u001b[0m\u001b[0;34m\u001b[0m\u001b[0;34m\u001b[0m\u001b[0m\n\u001b[1;32m    138\u001b[0m     \"\"\"\n\u001b[0;32m--> 139\u001b[0;31m     \u001b[0;32mif\u001b[0m \u001b[0mimage\u001b[0m\u001b[0;34m.\u001b[0m\u001b[0mndim\u001b[0m \u001b[0;34m==\u001b[0m \u001b[0;36m2\u001b[0m\u001b[0;34m:\u001b[0m\u001b[0;34m\u001b[0m\u001b[0;34m\u001b[0m\u001b[0m\n\u001b[0m\u001b[1;32m    140\u001b[0m         \u001b[0;32mreturn\u001b[0m \u001b[0;36m2\u001b[0m\u001b[0;34m\u001b[0m\u001b[0;34m\u001b[0m\u001b[0m\n\u001b[1;32m    141\u001b[0m     \u001b[0;32mif\u001b[0m \u001b[0mimage\u001b[0m\u001b[0;34m.\u001b[0m\u001b[0mndim\u001b[0m \u001b[0;34m==\u001b[0m \u001b[0;36m3\u001b[0m \u001b[0;32mand\u001b[0m \u001b[0mimage\u001b[0m\u001b[0;34m.\u001b[0m\u001b[0mshape\u001b[0m\u001b[0;34m[\u001b[0m\u001b[0;34m-\u001b[0m\u001b[0;36m1\u001b[0m\u001b[0;34m]\u001b[0m \u001b[0;34m!=\u001b[0m \u001b[0;36m3\u001b[0m\u001b[0;34m:\u001b[0m\u001b[0;34m\u001b[0m\u001b[0;34m\u001b[0m\u001b[0m\n",
            "\u001b[0;31mAttributeError\u001b[0m: 'NoneType' object has no attribute 'ndim'"
          ]
        }
      ]
    },
    {
      "cell_type": "markdown",
      "metadata": {
        "id": "pFHjhS3CU_-0"
      },
      "source": [
        ""
      ]
    },
    {
      "cell_type": "code",
      "metadata": {
        "id": "7UzWwieIBeMK"
      },
      "source": [
        "###########################################\n",
        "\n",
        "#Using os library to walk through folders\n",
        "import os\n",
        "import cv2\n",
        "from skimage.filters import gaussian\n",
        "from skimage import img_as_ubyte\n",
        "\n",
        "img_number = 1\n",
        "for root, dirs, files in os.walk(\"test_images/imgs\"):\n",
        "#for path,subdir,files in os.walk(\".\"):\n",
        "#   for name in dirs:\n",
        "#       print (os.path.join(root, name)) # will print path of directories\n",
        "   for name in files:    \n",
        "       print (os.path.join(root, name)) # will print path of files \n",
        "       path = os.path.join(root, name)\n",
        "       img= cv2.imread(path, 0)  #now, we can read each file since we have the full path\n",
        "       #process each image - change color from BGR to RGB.\n",
        "       smoothed_image = img_as_ubyte(gaussian(img, sigma=5, mode='constant', cval=0.0))\n",
        "       cv2.imwrite(\"test_images/smoothed/smoothed_image\"+str(img_number)+\".jpg\", smoothed_image)\n",
        "       img_number +=1     \n",
        "       \n",
        "\n",
        "################################################\n",
        "#Capture all mages into an array and then iterate through each image\n",
        "#Normally used for machine learning workflows.\n",
        "\n",
        "import numpy as np\n",
        "import cv2\n",
        "import os\n",
        "import glob\n",
        "from skimage.filters import gaussian\n",
        "from skimage import img_as_ubyte\n",
        "\n",
        "images_list = []\n",
        "SIZE = 512\n",
        "\n",
        "path = \"test_images/imgs/*.*\"\n",
        "\n",
        "#First create a stack array of all images\n",
        "for file in glob.glob(path):\n",
        "    print(file)     #just stop here to see all file names printed\n",
        "    img= cv2.imread(file, 0)  #now, we can read each file since we have the full path\n",
        "    img = cv2.resize(img, (SIZE, SIZE))\n",
        "    images_list.append(img)\n",
        "        \n",
        "images_list = np.array(images_list)\n",
        "\n",
        "#Process each slice in the stack\n",
        "img_number = 1\n",
        "for image in range(images_list.shape[0]):\n",
        "    input_img = images_list[image,:,:]  #Grey images. For color add another dim.\n",
        "    smoothed_image = img_as_ubyte(gaussian(input_img, sigma=5, mode='constant', cval=0.0))\n",
        "    cv2.imwrite(\"test_images/smoothed/smoothed_image\"+str(img_number)+\".jpg\", smoothed_image)\n",
        "    img_number +=1     \n",
        "       \n",
        "########################################################\n",
        "#Reading multidimensional tif images and processing slice by slice\n",
        "    \n",
        "img = tifffile.imread(file)    \n",
        "\n",
        "img_number = 1\n",
        "for image in range(img.shape[0]):\n",
        "    input_img = img[image,:,:]  #Grey images. For color add another dim.\n",
        "    smoothed_image = img_as_ubyte(gaussian(input_img, sigma=5, mode='constant', cval=0.0))\n",
        "    cv2.imwrite(\"test_images/smoothed/smoothed_image\"+str(img_number)+\".jpg\", smoothed_image)\n",
        "    img_number +=1     \n",
        "   "
      ],
      "execution_count": null,
      "outputs": []
    },
    {
      "cell_type": "markdown",
      "metadata": {
        "id": "4DtY9TS9oeF-"
      },
      "source": [
        "# Multi-Image Comparision"
      ]
    },
    {
      "cell_type": "code",
      "metadata": {
        "id": "2EduiVi2G3Yu"
      },
      "source": [
        "import cv2\n",
        "import numpy as np\n",
        "import glob\n",
        "import os"
      ],
      "execution_count": null,
      "outputs": []
    },
    {
      "cell_type": "code",
      "metadata": {
        "colab": {
          "base_uri": "https://localhost:8080/",
          "height": 223
        },
        "id": "Kmy2Iae1rXjl",
        "outputId": "89ad072a-b33d-413e-f9a3-18436dcb1fa7"
      },
      "source": [
        "data = []\n",
        "\n",
        "for filename in os.listdir(old_folder):\n",
        "    if filename.endswith(\"jpg\"): \n",
        "        # Your code comes here such as \n",
        "        print(filename)\n",
        "        data.append(filename)\n",
        "\n",
        "for filename in os.listdir(new_folder):\n",
        "    if filename.endswith(\"jpg\"): \n",
        "        # Your code comes here such as \n",
        "        print(filename)\n",
        "        data.append(filename)"
      ],
      "execution_count": null,
      "outputs": [
        {
          "output_type": "error",
          "ename": "FileNotFoundError",
          "evalue": "ignored",
          "traceback": [
            "\u001b[0;31m---------------------------------------------------------------------------\u001b[0m",
            "\u001b[0;31mFileNotFoundError\u001b[0m                         Traceback (most recent call last)",
            "\u001b[0;32m<ipython-input-10-6c4619e72f51>\u001b[0m in \u001b[0;36m<module>\u001b[0;34m()\u001b[0m\n\u001b[1;32m      7\u001b[0m         \u001b[0mdata\u001b[0m\u001b[0;34m.\u001b[0m\u001b[0mappend\u001b[0m\u001b[0;34m(\u001b[0m\u001b[0mfilename\u001b[0m\u001b[0;34m)\u001b[0m\u001b[0;34m\u001b[0m\u001b[0;34m\u001b[0m\u001b[0m\n\u001b[1;32m      8\u001b[0m \u001b[0;34m\u001b[0m\u001b[0m\n\u001b[0;32m----> 9\u001b[0;31m \u001b[0;32mfor\u001b[0m \u001b[0mfilename1\u001b[0m \u001b[0;32min\u001b[0m \u001b[0mos\u001b[0m\u001b[0;34m.\u001b[0m\u001b[0mlistdir\u001b[0m\u001b[0;34m(\u001b[0m\u001b[0mnew_folder\u001b[0m\u001b[0;34m)\u001b[0m\u001b[0;34m:\u001b[0m\u001b[0;34m\u001b[0m\u001b[0;34m\u001b[0m\u001b[0m\n\u001b[0m\u001b[1;32m     10\u001b[0m     \u001b[0;32mif\u001b[0m \u001b[0mfilename1\u001b[0m\u001b[0;34m.\u001b[0m\u001b[0mendswith\u001b[0m\u001b[0;34m(\u001b[0m\u001b[0;34m\"jpg\"\u001b[0m\u001b[0;34m)\u001b[0m\u001b[0;34m:\u001b[0m\u001b[0;34m\u001b[0m\u001b[0;34m\u001b[0m\u001b[0m\n\u001b[1;32m     11\u001b[0m         \u001b[0;31m# Your code comes here such as\u001b[0m\u001b[0;34m\u001b[0m\u001b[0;34m\u001b[0m\u001b[0;34m\u001b[0m\u001b[0m\n",
            "\u001b[0;31mFileNotFoundError\u001b[0m: [Errno 2] No such file or directory: '/content/drive/My Drive/Research/Photo/Test3/old_folder'"
          ]
        }
      ]
    },
    {
      "cell_type": "code",
      "metadata": {
        "id": "lMkOQUBeHofs",
        "colab": {
          "base_uri": "https://localhost:8080/"
        },
        "outputId": "17ba3afb-5684-4114-f12a-5048a81652c3"
      },
      "source": [
        "original = cv2.imread(old_folder)\n",
        "# Sift and Flann\n",
        "sift = cv2.xfeatures2d.SIFT_create()\n",
        "kp_1, desc_1 = sift.detectAndCompute(original, None)\n",
        "index_params = dict(algorithm=0, trees=5)\n",
        "search_params = dict()\n",
        "flann = cv2.FlannBasedMatcher(index_params, search_params)\n",
        "# Load all the images\n",
        "\n",
        "all_images_to_compare = []\n",
        "titles = []\n",
        "\n",
        "#path to all images -----------------------------\n",
        "\n",
        "for file_name in os.listdir(folder):\n",
        "  f = os.path.join(folder, file_name)\n",
        "  image = cv2.imread(f)\n",
        "  titles.append(f)\n",
        "  all_images_to_compare.append(image)\n",
        "#$folder\\.txt\n",
        "print (\"all good\")\n",
        "\n",
        "#You may need to use $name\\.txt or {name}.txt in some cases."
      ],
      "execution_count": null,
      "outputs": [
        {
          "output_type": "stream",
          "text": [
            "all good\n"
          ],
          "name": "stdout"
        }
      ]
    },
    {
      "cell_type": "markdown",
      "metadata": {
        "id": "24-ebypPFhPR"
      },
      "source": [
        "https://stackoverflow.com/questions/35617954/compare-a-single-image-with-10-or-more-images-and-find-the-matching-one\n"
      ]
    },
    {
      "cell_type": "code",
      "metadata": {
        "colab": {
          "base_uri": "https://localhost:8080/"
        },
        "id": "57CD_rtxV1TY",
        "outputId": "3ff2fb1e-54b5-4a94-8bb5-9a4776a7c04c"
      },
      "source": [
        "#all_images_to_compare ->folder\n",
        "#image_list = np.array[[]]\n",
        "#maximize similarities\n",
        "\n",
        "for image_to_compare, title in zip(all_images_to_compare, titles):\n",
        "    # 1) Check if 2 images are equals\n",
        "    if original.shape == image_to_compare.shape:\n",
        "        print(\"The images have same size and channels\")\n",
        "        difference = cv2.subtract(original, image_to_compare)\n",
        "        b, g, r = cv2.split(difference)\n",
        "\n",
        "        if cv2.countNonZero(b) == 0 and cv2.countNonZero(g) == 0 and cv2.countNonZero(r) == 0:\n",
        "            print(\"Similarity: 100% (equal size and channels)\")\n",
        "            break\n",
        "\n",
        "    # 2) Check for similarities between the 2 images\n",
        "    kp_2, desc_2 = sift.detectAndCompute(image_to_compare, None)\n",
        "\n",
        "    matches = flann.knnMatch(desc_1, desc_2, k=2)\n",
        "\n",
        "    good_points = []\n",
        "    for m, n in matches:\n",
        "        if m.distance > 0.6*n.distance:\n",
        "            good_points.append(m)\n",
        "\n",
        "    number_keypoints = 0\n",
        "    if len(kp_1) >= len(kp_2):\n",
        "        number_keypoints = len(kp_1)\n",
        "    else:\n",
        "        number_keypoints = len(kp_2)\n",
        "\n",
        "    print(\"Title: \" + title)\n",
        "    percentage_similarity = len(good_points) / number_keypoints * 100\n",
        "    print(\"Similarity: \" + str(int(percentage_similarity)) + \"\\n\")"
      ],
      "execution_count": null,
      "outputs": [
        {
          "output_type": "stream",
          "text": [
            "The images have same size and channels\n",
            "Similarity: 100% (equal size and channels)\n"
          ],
          "name": "stdout"
        }
      ]
    },
    {
      "cell_type": "markdown",
      "metadata": {
        "id": "_sGFkeB68YkO"
      },
      "source": [
        "https://stackoverflow.com/questions/35617954/compare-a-single-image-with-10-or-more-images-and-find-the-matching-one"
      ]
    },
    {
      "cell_type": "code",
      "metadata": {
        "id": "5yZCRpjqoqEI"
      },
      "source": [
        "from itertools import izip\n",
        "\n",
        "import numpy as np\n",
        "import cv2\n",
        "from matplotlib import pyplot as plt\n",
        "from PIL import Image\n",
        "\n",
        "\n",
        "\n",
        "def take_and_save_picture(im_save):\n",
        "  '''Take a picture and save it\n",
        "\n",
        "  Args:\n",
        "    im_save: filepath where the image should be stored\n",
        "  '''\n",
        "  camera_port = 0\n",
        "  ramp_frames = 30\n",
        "  cap = cv2.VideoCapture(camera_port)\n",
        "  def get_image():\n",
        "   retval, im = cap.read()\n",
        "   return im\n",
        "\n",
        "  for i in xrange(ramp_frames):\n",
        "   temp = get_image()\n",
        "\n",
        "  print(\"Taking image...\")\n",
        "  # Take the actual image we want to keep\n",
        "  camera_capture = get_image()\n",
        "\n",
        "  #im_save_tmp = im_save + '.jpg'\n",
        "  im_save_tmp = im_save \n",
        "\n",
        "  # A nice feature of the imwrite method is that it will automatically choose the\n",
        "  # correct format based on the file extension you provide. Convenient!\n",
        "  cv2.imwrite(im_save_tmp, camera_capture)\n",
        "\n",
        "  # You'll want to release the camera, otherwise you won't be able to create a new\n",
        "  # capture object until your script exits\n",
        "  # del(cap)\n",
        "\n",
        "  img1 = cv2.imread(im_save_tmp, 0)\n",
        "\n",
        "  edges = cv2.Canny(img1, 100, 200)\n",
        "  cv2.imwrite(im_save, edges)\n",
        "  cv2.waitKey(0)\n",
        "  cv2.destroyAllWindows()\n",
        "\n",
        "#im1 = \"/Users/Me/gop.jpg\"\n",
        "#im2 = \"/Users/Me/aarthi.jpg\"\n",
        "im1 = input('enter the path of database file')\n",
        "im2 = input('enter the path where captured image is to be saved')\n",
        "#im1=\"/Users/Me/home1.png\"\n",
        "#im2=\"/Users/Me/home.png\"\n",
        "\n",
        "def compute_edges_diff(im1, im2):\n",
        "  '''Compute edges diff between to image files.\n",
        "\n",
        "  Args:\n",
        "    im1: filepath to the first image\n",
        "    im2: filepath to the second image\n",
        "\n",
        "  Returns:\n",
        "    float: percentage of difference between images\n",
        "  '''\n",
        "#for no_file1 in range(0,10):\n",
        "  #template = cv2.imread('numbers1/{no_file}.png'.format(no_file=no_file1),0)\n",
        "  i1 = Image.open(im1)\n",
        "  i2 = Image.open(im2)\n",
        "  assert i1.mode == i2.mode, \"Different kinds of images.\"\n",
        "  assert i1.size == i2.size, \"Different sizes.\"\n",
        "\n",
        "  pairs = izip(i1.getdata(), i2.getdata())\n",
        "  if len(i1.getbands()) == 1:\n",
        "      # for gray-scale jpegs\n",
        "      dif = sum(abs(p1-p2) for p1,p2 in pairs)\n",
        "  else:\n",
        "      dif = sum(abs(c1-c2) for p1,p2 in pairs for c1,c2 in zip(p1,p2))\n",
        "\n",
        "  ncomponents = i1.size[0] * i1.size[1] * 3\n",
        "  diff = (dif / 255.0 * 100) / ncomponents\n",
        "  return diff\n",
        "\n",
        "def get_images_to_compare():\n",
        "    images_to_compare = []\n",
        "    while True:\n",
        "        comp_img = raw_input(\"Path of image to compare to: \")\n",
        "        if len(comp_img) <= 1:\n",
        "            # break if someone just hits enter\n",
        "            break\n",
        "        images_to_compare.append(comp_img)\n",
        "    return images_to_compare\n",
        "\n",
        "def main():\n",
        "    #capture_img = \"/Users/Me/home1.png\"\n",
        "    capture_img = input('enter path of the file from database')\n",
        "    #img_to_compare = \"/Users/Me/Documents/python programs/compare/img2.jpg\"\n",
        "    take_and_save_picture(capture_img)\n",
        "    #### you have some odd var names here, basic gist, add a for loop\n",
        "    for comp_image in get_images_to_compare():\n",
        "        diff = compute_edges_diff(im1, im2)\n",
        "        print \"Difference (percentage):\", diff\n",
        "        if diff > 0.5:\n",
        "            print im1\n",
        "        else:\n",
        "            print im2\n",
        "\n",
        "if __name__ == '__main__':\n",
        "  main()\n",
        "\n",
        "#del(cap)\n",
        "\n",
        "def main(folder_path_to_search, files_to_compare_to, source_image_path):\n",
        "    #capture_img = \"/Users/Me/home1.png\"\n",
        "    capture_img = input('enter path of the file from database')\n",
        "    #img_to_compare = \"/Users/Me/Documents/python programs/compare/img2.jpg\"\n",
        "    take_and_save_picture(capture_img)\n",
        "\n",
        "    images_to_compare = [ os.path.join(folder_path_to_search,file_path) for file_path in os.listdir(folder_path_to_search) if file_path.endswith(files_to_compare_to) ]\n",
        "\n",
        "    for comp_image in get_images_to_compare(): #[ os.path.join(base_path,file_path) for file_path in os.listdir(base_path) if file_path.endswith('.jpg' <or some other file pattern>) ]\n",
        "      \n",
        "        diff = compute_edges_diff(source_image_path, comp_image)\n",
        "        print \"Difference (percentage):\", diff, \"(\", source_image_path, \":\", comp_image, \")\"\n",
        "\n",
        "\n",
        "if __name__ == '__main__':\n",
        "  folder_path_to_search = raw_input(\"Enter folder path to search\")\n",
        "  files_to_compare_to   = raw_input(\"enter file extention to glob ex: '.jpg'\")\n",
        "  source_image_path     = raw_input(\"enter full file path of source image\")\n",
        "  main(folder_path_to_search, files_to_compare_to, source_image_path)\n"
      ],
      "execution_count": null,
      "outputs": []
    }
  ]
}